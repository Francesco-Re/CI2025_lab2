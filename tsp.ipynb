{
 "cells": [
  {
   "cell_type": "markdown",
   "id": "03f08af9",
   "metadata": {},
   "source": [
    "The Traveling Salesman Problem (TSP) is a classic combinatorial optimization problem that seeks the shortest possible route visiting a set of locations exactly once and returning to the starting point.\n",
    " It is formally defined as finding the shortest closed path that visits each vertex in a graph exactly once, where the graph is typically undirected and weighted, with vertices representing cities and edge weights representing distances or costs.\n",
    " The problem is NP-hard, meaning no known polynomial-time algorithm can solve all instances optimally, and the number of possible routes grows factorially with the number of cities, making brute-force solutions impractical for large instances "
   ]
  },
  {
   "cell_type": "code",
   "execution_count": 1,
   "id": "3a0dcacf",
   "metadata": {},
   "outputs": [],
   "source": [
    "from itertools import combinations\n",
    "import numpy as np"
   ]
  },
  {
   "cell_type": "markdown",
   "id": "034efe17",
   "metadata": {},
   "source": [
    "## Simple Test Problem"
   ]
  },
  {
   "cell_type": "code",
   "execution_count": 2,
   "id": "193604ac",
   "metadata": {},
   "outputs": [],
   "source": [
    "CITIES = [\n",
    "    \"Rome\",\n",
    "    \"Milan\",\n",
    "    \"Naples\",\n",
    "    \"Turin\",\n",
    "    \"Palermo\",\n",
    "    \"Genoa\",\n",
    "    \"Bologna\",\n",
    "    \"Florence\",\n",
    "    \"Bari\",\n",
    "    \"Catania\",\n",
    "    \"Venice\",\n",
    "    \"Verona\",\n",
    "    \"Messina\",\n",
    "    \"Padua\",\n",
    "    \"Trieste\",\n",
    "    \"Taranto\",\n",
    "    \"Brescia\",\n",
    "    \"Prato\",\n",
    "    \"Parma\",\n",
    "    \"Modena\",\n",
    "]\n",
    "test_problem = np.load('lab2/test_problem.npy')"
   ]
  },
  {
   "cell_type": "markdown",
   "id": "bafd1bc9",
   "metadata": {},
   "source": [
    "## Common tests"
   ]
  },
  {
   "cell_type": "code",
   "execution_count": 4,
   "id": "8e905659",
   "metadata": {},
   "outputs": [
    {
     "data": {
      "text/plain": [
       "array([[  0.        ,   4.9766    ,  65.54479501, ...,   7.83902018,\n",
       "         27.41995194,  87.69299895],\n",
       "       [  9.36499057,   0.        , 110.87932346, ...,  19.63789468,\n",
       "         30.94641048,  50.11884753],\n",
       "       [ 35.88566785,  54.64069406,   0.        , ...,  66.45444707,\n",
       "         87.16585662,  13.71356104],\n",
       "       ...,\n",
       "       [ 15.7861903 ,  13.58665954,  37.36828725, ...,   0.        ,\n",
       "         33.44981139,  28.40778893],\n",
       "       [ 43.48793718,  32.44459687,  80.22882128, ...,  18.97247219,\n",
       "          0.        ,  68.05734486],\n",
       "       [ 38.95399487,  52.21881804,  12.94487068, ...,  67.75221274,\n",
       "         60.95591025,   0.        ]], shape=(100, 100))"
      ]
     },
     "execution_count": 4,
     "metadata": {},
     "output_type": "execute_result"
    }
   ],
   "source": [
    "problem = np.load('lab2/problem_r1_100.npy')\n",
    "problem"
   ]
  },
  {
   "cell_type": "code",
   "execution_count": 9,
   "id": "83d367fd",
   "metadata": {},
   "outputs": [
    {
     "data": {
      "text/plain": [
       "np.True_"
      ]
     },
     "execution_count": 9,
     "metadata": {},
     "output_type": "execute_result"
    }
   ],
   "source": [
    "# Negative values?\n",
    "np.any(problem < 0)"
   ]
  },
  {
   "cell_type": "code",
   "execution_count": 10,
   "id": "03175c34",
   "metadata": {},
   "outputs": [
    {
     "data": {
      "text/plain": [
       "False"
      ]
     },
     "execution_count": 10,
     "metadata": {},
     "output_type": "execute_result"
    }
   ],
   "source": [
    "# Diagonal is all zero?\n",
    "np.allclose(np.diag(problem), 0.0)"
   ]
  },
  {
   "cell_type": "code",
   "execution_count": 11,
   "id": "a81d846f",
   "metadata": {},
   "outputs": [
    {
     "data": {
      "text/plain": [
       "False"
      ]
     },
     "execution_count": 11,
     "metadata": {},
     "output_type": "execute_result"
    }
   ],
   "source": [
    "# Symmetric matrix?\n",
    "np.allclose(problem, problem.T)"
   ]
  },
  {
   "cell_type": "code",
   "execution_count": 12,
   "id": "159567d4",
   "metadata": {},
   "outputs": [
    {
     "data": {
      "text/plain": [
       "False"
      ]
     },
     "execution_count": 12,
     "metadata": {},
     "output_type": "execute_result"
    }
   ],
   "source": [
    "# Triangular inequality\n",
    "all(\n",
    "    problem[x, y] <= problem[x, z] + problem[z, y]\n",
    "    for x, y, z in list(combinations(range(problem.shape[0]), 3))\n",
    ")"
   ]
  },
  {
   "cell_type": "code",
   "execution_count": null,
   "id": "ef3c3a4a",
   "metadata": {},
   "outputs": [],
   "source": []
  }
 ],
 "metadata": {
  "kernelspec": {
   "display_name": "Python 3",
   "language": "python",
   "name": "python3"
  },
  "language_info": {
   "codemirror_mode": {
    "name": "ipython",
    "version": 3
   },
   "file_extension": ".py",
   "mimetype": "text/x-python",
   "name": "python",
   "nbconvert_exporter": "python",
   "pygments_lexer": "ipython3",
   "version": "3.11.9"
  }
 },
 "nbformat": 4,
 "nbformat_minor": 5
}
